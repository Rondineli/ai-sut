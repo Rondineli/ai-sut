{
 "cells": [
  {
   "cell_type": "code",
   "execution_count": 2,
   "metadata": {},
   "outputs": [
    {
     "name": "stdout",
     "output_type": "stream",
     "text": [
      "mkdir: /Users/rondineli/.kaggle: File exists\n",
      "cp: kaggle.json: No such file or directory\n",
      "chmod: /Users/rondineli/.kaggle/kaggle.json: No such file or directory\n",
      "Traceback (most recent call last):\n",
      "  File \"/Users/rondineli/miniconda3/bin/kaggle\", line 5, in <module>\n",
      "    from kaggle.cli import main\n",
      "  File \"/Users/rondineli/miniconda3/lib/python3.12/site-packages/kaggle/__init__.py\", line 7, in <module>\n",
      "    api.authenticate()\n",
      "  File \"/Users/rondineli/miniconda3/lib/python3.12/site-packages/kaggle/api/kaggle_api_extended.py\", line 407, in authenticate\n",
      "    raise IOError('Could not find {}. Make sure it\\'s located in'\n",
      "OSError: Could not find kaggle.json. Make sure it's located in /Users/rondineli/.kaggle. Or use the environment method. See setup instructions at https://github.com/Kaggle/kaggle-api/\n"
     ]
    }
   ],
   "source": [
    "! pip install -q kaggle\n",
    "! mkdir ~/.kaggle\n",
    "! cp kaggle.json ~/.kaggle/\n",
    "! chmod 600 ~/.kaggle/kaggle.json\n",
    "! kaggle competitions download -c 'sports-classification'"
   ]
  },
  {
   "cell_type": "code",
   "execution_count": 1,
   "metadata": {},
   "outputs": [],
   "source": [
    "from typing import Optional\n",
    "\n",
    "import tensorflow as tf\n",
    "from tensorflow import keras\n",
    "from keras.models import Model, Sequential\n",
    "from keras.layers import Activation, Conv2D, Permute, multiply, Add, ReLU, MaxPooling2D, Flatten, Dense, Dropout, BatchNormalization, LeakyReLU, GlobalAveragePooling2D, Reshape, Multiply\n",
    "from keras import Input\n",
    "from typing import Optional\n",
    "from tensorflow.keras.regularizers import l2\n",
    "from keras import backend as K\n",
    "\n",
    "\n",
    "      \n"
   ]
  },
  {
   "cell_type": "code",
   "execution_count": 129,
   "metadata": {},
   "outputs": [],
   "source": [
    "class SeResNet():\n",
    "    def __init__(self, num_classes: Optional[int] = 100):\n",
    "        self.shape = (32, 32, 3)\n",
    "        self.ratio = 16\n",
    "        self.default_activation = 'relu'\n",
    "        self.inputs = Input(shape=self.shape)\n",
    "        self.num_classes = num_classes\n",
    "    \n",
    "    @property\n",
    "    def name(self):\n",
    "        return f'se_res_net_{self.num_classes}'\n",
    "\n",
    "    def main(self):\n",
    "        ''' controller main to call from class model '''\n",
    "        return keras.Model(self.inputs, self.se_res_net())\n",
    "\n",
    "    def squeeze_excite_net(self, input_tensor) -> keras.KerasTensor:\n",
    "        ''' Squeeze-and-Excitation (SE) Block '''\n",
    "        channel_axis = -1 if K.image_data_format() == \"channels_last\" else 1\n",
    "        filters = int(input_tensor.shape[channel_axis])\n",
    "\n",
    "        se_net = GlobalAveragePooling2D()(input_tensor)\n",
    "        se_net = Dense(filters // self.ratio, activation=self.default_activation, kernel_initializer='he_normal', use_bias=False)(se_net)\n",
    "        se_net = Dense(filters, activation='sigmoid', kernel_initializer='he_normal', use_bias=False)(se_net)\n",
    "\n",
    "        se_net = Reshape((1, 1, filters))(se_net)\n",
    "        return Multiply()([input_tensor, se_net])\n",
    "\n",
    "    def residual_block(self, input_tensor, filters: int) -> keras.KerasTensor:\n",
    "        ''' Residual Block with Channel Matching '''\n",
    "        res_block = Conv2D(filters, (3, 3), padding='same', activation=self.default_activation)(input_tensor)\n",
    "        res_block = BatchNormalization()(res_block)\n",
    "        res_block = ReLU()(res_block)\n",
    "\n",
    "        res_block = Conv2D(filters, (3, 3), padding='same')(res_block)\n",
    "        res_block = BatchNormalization()(res_block)\n",
    "\n",
    "        shortcut = Conv2D(filters, (1, 1), padding='same')(input_tensor)\n",
    "        res_block = Add()([res_block, shortcut])\n",
    "        return ReLU()(res_block)\n",
    "\n",
    "    def se_res_net(self, filters: Optional[int] = 128):\n",
    "        ''' SE-ResNet Architecture '''\n",
    "        self.tensor = Conv2D(32, (3, 3), activation=self.default_activation, padding='same')(self.inputs)\n",
    "        self.tensor = BatchNormalization()(self.tensor)\n",
    "        self.tensor = Activation('relu')(self.tensor)\n",
    "\n",
    "        self.tensor = self.residual_block(self.tensor, 64)\n",
    "        self.tensor = self.squeeze_excite_net(self.tensor)\n",
    "\n",
    "        self.tensor = Conv2D(filters, (3, 3), padding=\"same\", kernel_regularizer=l2(0.001), activation=self.default_activation)(self.tensor)\n",
    "        self.tensor = BatchNormalization()(self.tensor)\n",
    "        self.tensor = Dropout(0.7)(self.tensor)\n",
    "        self.tensor = GlobalAveragePooling2D()(self.tensor)\n",
    "        self.tensor = Dropout(0.7)(self.tensor)\n",
    "        return Dense(self.num_classes, activation='softmax')(self.tensor)\n",
    "\n",
    "    def __repr__(self):\n",
    "        return f'SeResNet <{self.num_classes}>'\n",
    "\n",
    "\n",
    "\n"
   ]
  },
  {
   "cell_type": "code",
   "execution_count": 120,
   "metadata": {},
   "outputs": [],
   "source": [
    "model = SeResNet().main()\n",
    "model.compile(optimizer=\"adam\", loss=\"sparse_categorical_crossentropy\", metrics=[\"accuracy\"])\n"
   ]
  }
 ],
 "metadata": {
  "kernelspec": {
   "display_name": "Python 3",
   "language": "python",
   "name": "python3"
  },
  "language_info": {
   "codemirror_mode": {
    "name": "ipython",
    "version": 3
   },
   "file_extension": ".py",
   "mimetype": "text/x-python",
   "name": "python",
   "nbconvert_exporter": "python",
   "pygments_lexer": "ipython3",
   "version": "3.9.6"
  }
 },
 "nbformat": 4,
 "nbformat_minor": 2
}
